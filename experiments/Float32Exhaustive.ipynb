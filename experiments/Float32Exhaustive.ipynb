{
 "cells": [
  {
   "cell_type": "code",
   "execution_count": 1,
   "id": "c7b4b03b-51fa-4586-b935-1667bf162080",
   "metadata": {},
   "outputs": [
    {
     "name": "stderr",
     "output_type": "stream",
     "text": [
      "\u001b[32m\u001b[1m  Activating\u001b[22m\u001b[39m project at `~/Documents/Academia/taylor/ElementalFunctionsTests`\n"
     ]
    }
   ],
   "source": [
    "using Pkg\n",
    "Pkg.activate(\"..\")\n",
    "using ElementalFunctionsTests"
   ]
  },
  {
   "cell_type": "code",
   "execution_count": 2,
   "id": "38310f2d-7a91-4c84-bed7-ea87668a8f47",
   "metadata": {},
   "outputs": [],
   "source": [
    "using ProgressMeter\n",
    "using JSON\n",
    "using Printf"
   ]
  },
  {
   "cell_type": "code",
   "execution_count": 3,
   "id": "86fbe8c7-1b23-44ac-8df8-552f9c38a927",
   "metadata": {},
   "outputs": [],
   "source": [
    "JSON.lower(e::Error32) =Dict(:x=>@sprintf(\"%a\", e.x), :err=>e.err)"
   ]
  },
  {
   "cell_type": "code",
   "execution_count": 4,
   "id": "2c252c8d-84c7-42bc-b0a3-aa6cc047fab9",
   "metadata": {},
   "outputs": [
    {
     "data": {
      "text/plain": [
       "Any[]"
      ]
     },
     "execution_count": 4,
     "metadata": {},
     "output_type": "execute_result"
    }
   ],
   "source": [
    "const r = range(-2, 2, length=41)\n",
    "errors = []"
   ]
  },
  {
   "cell_type": "code",
   "execution_count": 5,
   "id": "6afdb1ae-70f1-4577-bd56-2fb357a4014d",
   "metadata": {},
   "outputs": [
    {
     "name": "stderr",
     "output_type": "stream",
     "text": [
      "\u001b[32mcos 100%|██████████████████████████████████| Time: 4:14:24 ( 3.57 μs/it)\u001b[39mm\n",
      "\u001b[32msin 100%|██████████████████████████████████| Time: 4:25:07 ( 3.72 μs/it)\u001b[39m\n",
      "\u001b[32mtan 100%|██████████████████████████████████| Time: 4:44:01 ( 3.98 μs/it)\u001b[39m\n",
      "\u001b[32mcospi 100%|████████████████████████████████| Time: 3:42:57 ( 3.13 μs/it)\u001b[39m\n",
      "\u001b[32msinpi 100%|████████████████████████████████| Time: 4:01:46 ( 3.39 μs/it)\u001b[39m\n",
      "\u001b[32macos 100%|█████████████████████████████████| Time: 2:37:32 ( 2.21 μs/it)\u001b[39m\n",
      "\u001b[32masin 100%|█████████████████████████████████| Time: 3:30:26 ( 2.95 μs/it)\u001b[39m\n",
      "\u001b[32matan 100%|█████████████████████████████████| Time: 4:32:14 ( 3.82 μs/it)\u001b[39m\n",
      "\u001b[32mcsc 100%|██████████████████████████████████| Time: 4:47:30 ( 4.03 μs/it)\u001b[39m\n",
      "\u001b[32msec 100%|██████████████████████████████████| Time: 4:15:41 ( 3.59 μs/it)\u001b[39m\n",
      "\u001b[32mcot 100%|██████████████████████████████████| Time: 4:52:30 ( 4.10 μs/it)\u001b[39m\n",
      "\u001b[32mcosh 100%|█████████████████████████████████| Time: 3:49:05 ( 3.21 μs/it)\u001b[39m\n",
      "\u001b[32msinh 100%|█████████████████████████████████| Time: 3:51:58 ( 3.25 μs/it)\u001b[39m\n",
      "\u001b[32mtanh 100%|█████████████████████████████████| Time: 3:56:37 ( 3.32 μs/it)\u001b[39m\n",
      "\u001b[32macosh 100%|████████████████████████████████| Time: 2:17:57 ( 1.93 μs/it)\u001b[39m\n",
      "\u001b[32masinh 100%|████████████████████████████████| Time: 6:58:58 ( 5.88 μs/it)\u001b[39m\n",
      "\u001b[32matanh 100%|████████████████████████████████| Time: 2:14:06 ( 1.88 μs/it)\u001b[39m\n",
      "\u001b[32mexp 100%|██████████████████████████████████| Time: 3:30:15 ( 2.95 μs/it)\u001b[39m\n",
      "\u001b[32mexpm1 100%|████████████████████████████████| Time: 3:44:54 ( 3.15 μs/it)\u001b[39m\n",
      "\u001b[32mexp2 100%|█████████████████████████████████| Time: 3:33:57 ( 3.00 μs/it)\u001b[39m\n",
      "\u001b[32mexp10 100%|████████████████████████████████| Time: 4:58:16 ( 4.18 μs/it)\u001b[39m\n",
      "\u001b[32mlog 100%|██████████████████████████████████| Time: 3:17:50 ( 2.77 μs/it)\u001b[39m\n",
      "\u001b[32mlog2 100%|█████████████████████████████████| Time: 3:33:26 ( 2.99 μs/it)\u001b[39m\n",
      "\u001b[32mlog10 100%|████████████████████████████████| Time: 4:32:46 ( 3.83 μs/it)\u001b[39m\n",
      "\u001b[32mlog1p 100%|████████████████████████████████| Time: 4:51:58 ( 4.09 μs/it)\u001b[39m\n"
     ]
    }
   ],
   "source": [
    "for f in mpfrfunctions\n",
    "    x = nextfloat(-Inf32)\n",
    "    maxerror = Error32(0.0, 0.0)\n",
    "    h = buckets(r)\n",
    "    \n",
    "    f_c = eval(:(@cfunction($f, Cfloat, (Cfloat,))))\n",
    "    f_mpfr = mpfrfun(string(f))\n",
    "    dom = domain(Symbol(f))\n",
    "    prog = Progress(4278190078, showspeed=true, dt=2.0, desc=string(f))\n",
    "    sum=0    # To store sum of stream \n",
    "    sumsq=0  # To store sum of square of stream \n",
    "    n=0   \n",
    "\n",
    "    \n",
    "    while(!isinf(x))\n",
    "        next!(prog)\n",
    "        if x < dom[1]\n",
    "            x = nextfloat(x)\n",
    "            continue\n",
    "        elseif x > dom[2]\n",
    "            break;\n",
    "        end\n",
    "        \n",
    "        err = ulperror32(f_c, f_mpfr, x)\n",
    "        add2bucket!(h, r, err)\n",
    "        abserr = abs(err)\n",
    "        n+=1\n",
    "        sum+=abserr\n",
    "        sumsq+=(abserr*abserr) \n",
    "        \n",
    "        if abs(err)>abs(maxerror.err)\n",
    "          maxerror = Error32(x, err)\n",
    "        end\n",
    "        x = nextfloat(x)\n",
    "    end\n",
    "\n",
    "    mean = sum/n \n",
    "    var = (sumsq/n) - (mean*mean) \n",
    "    \n",
    "    finish!(prog)\n",
    "      \n",
    "    push!(errors, TestsResults(Symbol(f),r,h, maxerror, 0, mean, var))\n",
    "    open(\"Float32Errors.json\",\"w\") do f\n",
    "      write(f, JSON.json(errors))\n",
    "    end\n",
    "end"
   ]
  },
  {
   "cell_type": "code",
   "execution_count": 5,
   "id": "7cd7a633-8255-490b-8997-3dce01038899",
   "metadata": {},
   "outputs": [
    {
     "name": "stderr",
     "output_type": "stream",
     "text": [
      "\u001b[32macosh 100%|████████████████████████████████| Time: 2:07:05 ( 1.78 μs/it)\u001b[39m\n"
     ]
    },
    {
     "name": "stdout",
     "output_type": "stream",
     "text": [
      "TestsResults(:acosh, -2.0:0.1:2.0, [7.0, 24.0, 62.0, 156.0, 428.0, 1084.0, 2061.0, 4430.0, 8972.0, 17762.0, 41593.0, 104116.0, 7.566408e6, 1.49999e7, 1.7832478e7, 3.6090028e7, 4.2502043e7, 6.9266262e7, 7.9047053e7, 1.07315403e8, 1.07319865e8, 1.07259229e8, 9.9801672e7, 9.2372951e7, 8.9541074e7, 7.1286965e7, 6.4864688e7, 3.8104983e7, 2.8313707e7, 41611.0, 17740.0, 9012.0, 4263.0, 1998.0, 1085.0, 463.0, 164.0, 64.0, 16.0, 3.0], Error32(1.0077478f0, 1.9944941297023218), 0, 0.3190273348924196, 0.05059992864930919)\n"
     ]
    },
    {
     "name": "stderr",
     "output_type": "stream",
     "text": [
      "\u001b[32mexpm1 100%|████████████████████████████████| Time: 3:38:19 ( 3.06 μs/it)\u001b[39m\n"
     ]
    },
    {
     "name": "stdout",
     "output_type": "stream",
     "text": [
      "TestsResults(:expm1, -2.0:0.1:2.0, [0.0, 0.0, 0.0, 0.0, 0.0, 0.0, 0.0, 0.0, 0.0, 0.0, 0.0, 0.0, 0.0, 522.0, 306512.0, 5.0249318e7, 5.0067203e7, 4.9697323e7, 4.9386405e7, 4.9147767e7, 1.299106545e9, 6.4223502e7, 5.6960872e7, 5.3658204e7, 5.24033e7, 256006.0, 0.0, 0.0, 0.0, 0.0, 0.0, 0.0, 0.0, 0.0, 0.0, 0.0, 0.0, 0.0, 0.0, 0.0], Error32(0.34657723f0, -0.6083148857518701), 0, 0.03960886248876376, 0.011352621212585401)\n"
     ]
    }
   ],
   "source": [
    "for f in [acosh, expm1]\n",
    "    x = nextfloat(-Inf32)\n",
    "    maxerror = Error32(0.0, 0.0)\n",
    "    h = buckets(r)\n",
    "    \n",
    "    f_c = eval(:(@cfunction($f, Cfloat, (Cfloat,))))\n",
    "    f_mpfr = mpfrfun(string(f))\n",
    "    dom = domain(Symbol(f))\n",
    "    prog = Progress(4278190078, showspeed=true, dt=2.0, desc=string(f))\n",
    "    sum=0    # To store sum of stream \n",
    "    sumsq=0  # To store sum of square of stream \n",
    "    n=0   \n",
    "\n",
    "    \n",
    "    while(!isinf(x))\n",
    "        next!(prog)\n",
    "        if x < dom[1]\n",
    "            x = nextfloat(x)\n",
    "            continue\n",
    "        elseif x > dom[2]\n",
    "            break;\n",
    "        end\n",
    "        \n",
    "        err = ulperror32(f_c, f_mpfr, x)\n",
    "        add2bucket!(h, r, err)\n",
    "        abserr = abs(err)\n",
    "        n+=1\n",
    "        sum+=abserr\n",
    "        sumsq+=(abserr*abserr) \n",
    "        \n",
    "        if abs(err)>abs(maxerror.err)\n",
    "          maxerror = Error32(x, err)\n",
    "        end\n",
    "        x = nextfloat(x)\n",
    "    end\n",
    "\n",
    "    mean = sum/n \n",
    "    var = (sumsq/n) - (mean*mean) \n",
    "    \n",
    "    finish!(prog)\n",
    "      \n",
    "    println(TestsResults(Symbol(f),r,h, maxerror, 0, mean, var))\n",
    "end"
   ]
  },
  {
   "cell_type": "code",
   "execution_count": null,
   "id": "b5dc8192-807e-4791-beb2-d182f806b794",
   "metadata": {},
   "outputs": [],
   "source": []
  }
 ],
 "metadata": {
  "kernelspec": {
   "display_name": "Julia 1.10.2",
   "language": "julia",
   "name": "julia-1.10"
  },
  "language_info": {
   "file_extension": ".jl",
   "mimetype": "application/julia",
   "name": "julia",
   "version": "1.10.2"
  }
 },
 "nbformat": 4,
 "nbformat_minor": 5
}
