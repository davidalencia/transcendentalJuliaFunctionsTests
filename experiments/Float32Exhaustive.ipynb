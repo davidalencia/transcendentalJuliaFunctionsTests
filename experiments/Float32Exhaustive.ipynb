{
 "cells": [
  {
   "cell_type": "code",
   "execution_count": 1,
   "id": "c7b4b03b-51fa-4586-b935-1667bf162080",
   "metadata": {},
   "outputs": [
    {
     "name": "stderr",
     "output_type": "stream",
     "text": [
      "\u001b[32m\u001b[1m  Activating\u001b[22m\u001b[39m project at `~/Documents/Academia/taylor/ElementalFunctionsTests`\n"
     ]
    }
   ],
   "source": [
    "using Pkg\n",
    "Pkg.activate(\"..\")\n",
    "using ElementalFunctionsTests"
   ]
  },
  {
   "cell_type": "code",
   "execution_count": 2,
   "id": "38310f2d-7a91-4c84-bed7-ea87668a8f47",
   "metadata": {},
   "outputs": [],
   "source": [
    "using ProgressMeter\n",
    "using JSON\n",
    "using Printf"
   ]
  },
  {
   "cell_type": "code",
   "execution_count": 3,
   "id": "86fbe8c7-1b23-44ac-8df8-552f9c38a927",
   "metadata": {},
   "outputs": [],
   "source": [
    "JSON.lower(e::Error32) =Dict(:x=>@sprintf(\"%a\", e.x), :err=>e.err)"
   ]
  },
  {
   "cell_type": "code",
   "execution_count": 4,
   "id": "2c252c8d-84c7-42bc-b0a3-aa6cc047fab9",
   "metadata": {},
   "outputs": [
    {
     "data": {
      "text/plain": [
       "Any[]"
      ]
     },
     "execution_count": 4,
     "metadata": {},
     "output_type": "execute_result"
    }
   ],
   "source": [
    "const r = range(-2, 2, length=41)\n",
    "errors = []"
   ]
  },
  {
   "cell_type": "code",
   "execution_count": 5,
   "id": "6afdb1ae-70f1-4577-bd56-2fb357a4014d",
   "metadata": {},
   "outputs": [
    {
     "name": "stderr",
     "output_type": "stream",
     "text": [
      "\u001b[32mcos 100%|██████████████████████████████████| Time: 4:14:24 ( 3.57 μs/it)\u001b[39mm\n",
      "\u001b[32msin 100%|██████████████████████████████████| Time: 4:25:07 ( 3.72 μs/it)\u001b[39m\n",
      "\u001b[32mtan 100%|██████████████████████████████████| Time: 4:44:01 ( 3.98 μs/it)\u001b[39m\n",
      "\u001b[32mcospi 100%|████████████████████████████████| Time: 3:42:57 ( 3.13 μs/it)\u001b[39m\n",
      "\u001b[32msinpi 100%|████████████████████████████████| Time: 4:01:46 ( 3.39 μs/it)\u001b[39m\n",
      "\u001b[32macos 100%|█████████████████████████████████| Time: 2:37:32 ( 2.21 μs/it)\u001b[39m\n",
      "\u001b[32masin 100%|█████████████████████████████████| Time: 3:30:26 ( 2.95 μs/it)\u001b[39m\n",
      "\u001b[32matan 100%|█████████████████████████████████| Time: 4:32:14 ( 3.82 μs/it)\u001b[39m\n",
      "\u001b[32mcsc 100%|██████████████████████████████████| Time: 4:47:30 ( 4.03 μs/it)\u001b[39m\n",
      "\u001b[32msec 100%|██████████████████████████████████| Time: 4:15:41 ( 3.59 μs/it)\u001b[39m\n",
      "\u001b[32mcot 100%|██████████████████████████████████| Time: 4:52:30 ( 4.10 μs/it)\u001b[39m\n",
      "\u001b[32mcosh 100%|█████████████████████████████████| Time: 3:49:05 ( 3.21 μs/it)\u001b[39m\n",
      "\u001b[32msinh 100%|█████████████████████████████████| Time: 3:51:58 ( 3.25 μs/it)\u001b[39m\n",
      "\u001b[32mtanh 100%|█████████████████████████████████| Time: 3:56:37 ( 3.32 μs/it)\u001b[39m\n",
      "\u001b[32macosh 100%|████████████████████████████████| Time: 2:17:57 ( 1.93 μs/it)\u001b[39m\n",
      "\u001b[32masinh 100%|████████████████████████████████| Time: 6:58:58 ( 5.88 μs/it)\u001b[39m\n",
      "\u001b[32matanh 100%|████████████████████████████████| Time: 2:14:06 ( 1.88 μs/it)\u001b[39m\n",
      "\u001b[32mexp 100%|██████████████████████████████████| Time: 3:30:15 ( 2.95 μs/it)\u001b[39m\n",
      "\u001b[32mexpm1 100%|████████████████████████████████| Time: 3:44:54 ( 3.15 μs/it)\u001b[39m\n",
      "\u001b[32mexp2 100%|█████████████████████████████████| Time: 3:33:57 ( 3.00 μs/it)\u001b[39m\n",
      "\u001b[32mexp10 100%|████████████████████████████████| Time: 4:58:16 ( 4.18 μs/it)\u001b[39m\n",
      "\u001b[32mlog 100%|██████████████████████████████████| Time: 3:17:50 ( 2.77 μs/it)\u001b[39m\n",
      "\u001b[32mlog2 100%|█████████████████████████████████| Time: 3:33:26 ( 2.99 μs/it)\u001b[39m\n",
      "\u001b[32mlog10 100%|████████████████████████████████| Time: 4:32:46 ( 3.83 μs/it)\u001b[39m\n",
      "\u001b[32mlog1p 100%|████████████████████████████████| Time: 4:51:58 ( 4.09 μs/it)\u001b[39m\n"
     ]
    }
   ],
   "source": [
    "for f in mpfrfunctions\n",
    "    x = nextfloat(-Inf32)\n",
    "    maxerror = Error32(0.0, 0.0)\n",
    "    h = buckets(r)\n",
    "    \n",
    "    f_c = eval(:(@cfunction($f, Cfloat, (Cfloat,))))\n",
    "    f_mpfr = mpfrfun(string(f))\n",
    "    dom = domain(Symbol(f))\n",
    "    prog = Progress(4278190078, showspeed=true, dt=2.0, desc=string(f))\n",
    "    sum=0    # To store sum of stream \n",
    "    sumsq=0  # To store sum of square of stream \n",
    "    n=0   \n",
    "\n",
    "    \n",
    "    while(!isinf(x))\n",
    "        next!(prog)\n",
    "        if x < dom[1]\n",
    "            x = nextfloat(x)\n",
    "            continue\n",
    "        elseif x > dom[2]\n",
    "            break;\n",
    "        end\n",
    "        \n",
    "        err = ulperror32(f_c, f_mpfr, x)\n",
    "        add2bucket!(h, r, err)\n",
    "        abserr = abs(err)\n",
    "        n+=1\n",
    "        sum+=abserr\n",
    "        sumsq+=(abserr*abserr) \n",
    "        \n",
    "        if abs(err)>abs(maxerror.err)\n",
    "          maxerror = Error32(x, err)\n",
    "        end\n",
    "        x = nextfloat(x)\n",
    "    end\n",
    "\n",
    "    mean = sum/n \n",
    "    var = (sumsq/n) - (mean*mean) \n",
    "    \n",
    "    finish!(prog)\n",
    "      \n",
    "    push!(errors, TestsResults(Symbol(f),r,h, maxerror, 0, mean, var))\n",
    "    open(\"Float32Errors.json\",\"w\") do f\n",
    "      write(f, JSON.json(errors))\n",
    "    end\n",
    "end"
   ]
  },
  {
   "cell_type": "code",
   "execution_count": null,
   "id": "7cd7a633-8255-490b-8997-3dce01038899",
   "metadata": {},
   "outputs": [],
   "source": []
  }
 ],
 "metadata": {
  "kernelspec": {
   "display_name": "Julia 1.9.0",
   "language": "julia",
   "name": "julia-1.9"
  },
  "language_info": {
   "file_extension": ".jl",
   "mimetype": "application/julia",
   "name": "julia",
   "version": "1.9.0"
  }
 },
 "nbformat": 4,
 "nbformat_minor": 5
}
