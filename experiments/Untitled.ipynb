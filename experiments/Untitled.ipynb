{
 "cells": [
  {
   "cell_type": "code",
   "execution_count": 1,
   "id": "c65a0d6c-a7fa-4f59-b262-c9df32db5934",
   "metadata": {},
   "outputs": [
    {
     "name": "stderr",
     "output_type": "stream",
     "text": [
      "\u001b[32m\u001b[1m  Activating\u001b[22m\u001b[39m project at `~/Documents/Academia/taylor/ElementalFunctionsTests`\n"
     ]
    }
   ],
   "source": [
    "using Pkg\n",
    "Pkg.activate(\"..\")\n",
    "using ElementalFunctionsTests"
   ]
  },
  {
   "cell_type": "code",
   "execution_count": 2,
   "id": "1022e5f0-54ff-41ef-8162-9f1c0438eb58",
   "metadata": {},
   "outputs": [],
   "source": [
    "using ProgressMeter\n",
    "using JSON\n",
    "using Printf"
   ]
  },
  {
   "cell_type": "code",
   "execution_count": 3,
   "id": "8dcef415-7af7-49e7-afd0-2bcaf56fcf81",
   "metadata": {},
   "outputs": [],
   "source": [
    "JSON.lower(e::Error32) =Dict(:x=>@sprintf(\"%a\", e.x), :err=>e.err)"
   ]
  },
  {
   "cell_type": "code",
   "execution_count": 4,
   "id": "5f502231-41d2-4748-92e4-0a664af9c931",
   "metadata": {},
   "outputs": [
    {
     "data": {
      "text/plain": [
       "Any[]"
      ]
     },
     "execution_count": 4,
     "metadata": {},
     "output_type": "execute_result"
    }
   ],
   "source": [
    "const r = range(-2, 2, length=41)\n",
    "errors = []"
   ]
  },
  {
   "cell_type": "code",
   "execution_count": 6,
   "id": "df32f416-9e9b-45aa-af86-841369f02620",
   "metadata": {},
   "outputs": [
    {
     "name": "stderr",
     "output_type": "stream",
     "text": [
      "\u001b[32mexpm1   4%|█▍                              |  ETA: 0:20:27 ( 0.30 μs/it)\u001b[39m"
     ]
    },
    {
     "ename": "LoadError",
     "evalue": "InterruptException:",
     "output_type": "error",
     "traceback": [
      "InterruptException:",
      "",
      "Stacktrace:",
      " [1] top-level scope",
      "   @ ./In[6]:20"
     ]
    }
   ],
   "source": [
    "f= mpfrfunctions[19]\n",
    "x = nextfloat(-Inf32)\n",
    "\n",
    "maxerror = Error32(0.0, 0.0)\n",
    "h = buckets(r)\n",
    "\n",
    "f_c = eval(:(@cfunction($f, Cfloat, (Cfloat,))))\n",
    "f_mpfr = mpfrfun(string(f))\n",
    "dom = domain(Symbol(f))\n",
    "prog = Progress(4278190078, showspeed=true, dt=2.0, desc=string(f))\n",
    "sum=0    # To store sum of stream \n",
    "sumsq=0  # To store sum of square of stream \n",
    "n=0   \n",
    "n_err = 0\n",
    "\n",
    "\n",
    "while(!isinf(x))\n",
    "    next!(prog)\n",
    "    if x < dom[1]\n",
    "        x = nextfloat(x)\n",
    "        continue\n",
    "    elseif x > dom[2]\n",
    "        break;\n",
    "    end\n",
    "    \n",
    "    err = ulperror32(f_c, f_mpfr, x)\n",
    "    abserr = abs(err)\n",
    "    n+=1\n",
    "\n",
    "    if abserr > 0.5\n",
    "        n_err\n",
    "    end\n",
    "    x = nextfloat(x)\n",
    "end\n",
    "\n",
    "\n",
    "finish!(prog)\n",
    "\n",
    "println((n_err, n, n_err/n))\n"
   ]
  },
  {
   "cell_type": "code",
   "execution_count": 5,
   "id": "7df469df-19e2-4fd9-a898-f7beff3d9b95",
   "metadata": {},
   "outputs": [
    {
     "name": "stdout",
     "output_type": "stream",
     "text": [
      "1\n"
     ]
    }
   ],
   "source": [
    "println(1)"
   ]
  },
  {
   "cell_type": "code",
   "execution_count": null,
   "id": "53f3cd23-966b-4cfc-81c5-8a1803d96ac5",
   "metadata": {},
   "outputs": [],
   "source": []
  }
 ],
 "metadata": {
  "kernelspec": {
   "display_name": "Julia 1.9.0",
   "language": "julia",
   "name": "julia-1.9"
  },
  "language_info": {
   "file_extension": ".jl",
   "mimetype": "application/julia",
   "name": "julia",
   "version": "1.9.0"
  }
 },
 "nbformat": 4,
 "nbformat_minor": 5
}
